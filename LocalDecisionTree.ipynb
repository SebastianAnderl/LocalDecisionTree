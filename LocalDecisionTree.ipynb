{
 "cells": [
  {
   "cell_type": "code",
   "execution_count": 1,
   "metadata": {},
   "outputs": [],
   "source": [
    "%load_ext autoreload\n",
    "%autoreload 2\n",
    "\n",
    "import DataSets\n",
    "from DataSets import *\n",
    "import DataGeneration\n",
    "from DataGeneration import *\n",
    "\n",
    "import pandas as pd\n",
    "import numpy as np\n",
    "import sklearn \n",
    "\n",
    "np.set_printoptions(suppress=True)\n",
    "\n",
    "from sklearn.model_selection import train_test_split\n",
    "from sklearn.neural_network import MLPClassifier\n",
    "from sklearn import svm\n",
    "from sklearn.ensemble import RandomForestClassifier\n",
    "from sklearn import tree\n",
    "#np.set_printoptions(suppress=True)\n",
    "\n",
    "%matplotlib inline\n",
    "import matplotlib as mpl\n",
    "import matplotlib.pyplot as plt"
   ]
  },
  {
   "cell_type": "code",
   "execution_count": 2,
   "metadata": {},
   "outputs": [],
   "source": [
    "seed = 2021\n",
    "np.random.seed(seed)"
   ]
  },
  {
   "cell_type": "code",
   "execution_count": 3,
   "metadata": {},
   "outputs": [],
   "source": [
    "x, y, attributes, classes, full = IrisDataSet()\n",
    "#x, y, attributes, classes, full = DiabetesDataSetQuant()\n",
    "#x, y, attributes, classes, full = DiabetesDataSetAbsolut()\n",
    "#x, y, attributes, classes, full = BostonHPDataSetQuant()\n",
    "#x, y, attributes, classes, full = BostonHPDataSetAbsolut()\n",
    "#x, y, attributes, classes, full = CaliforniaDataSetQuant()\n",
    "#x, y, attributes, classes, full = CaliforniaDataSetAbsolut()\n",
    "#x, y, attributes, classes, full = CaliforniaHLDataSetQuant()\n",
    "#x, y, attributes, classes, full = CaliforniaHLDataSetAbsolut()\n",
    "#x, y, attributes, classes, full = OccupancyDataSet()"
   ]
  },
  {
   "cell_type": "code",
   "execution_count": 4,
   "metadata": {},
   "outputs": [],
   "source": [
    "x_train_bb, x_rest, y_train_bb, y_rest = train_test_split(x, y, test_size=0.2, random_state=seed)\n",
    "x_similar, x_test, y_similar, y_test = train_test_split(x_rest, y_rest, test_size=0.5, random_state=seed)"
   ]
  },
  {
   "cell_type": "code",
   "execution_count": 5,
   "metadata": {},
   "outputs": [
    {
     "name": "stdout",
     "output_type": "stream",
     "text": [
      "(120, 4)\n",
      "(15, 4)\n",
      "(15, 4)\n"
     ]
    },
    {
     "data": {
      "text/plain": [
       "(array([36.,  0.,  0.,  0.,  0., 40.,  0.,  0.,  0., 44.]),\n",
       " array([0. , 0.2, 0.4, 0.6, 0.8, 1. , 1.2, 1.4, 1.6, 1.8, 2. ]),\n",
       " <a list of 10 Patch objects>)"
      ]
     },
     "execution_count": 5,
     "metadata": {},
     "output_type": "execute_result"
    },
    {
     "data": {
      "image/png": "[encoded data removed]",
      "text/plain": [
       "<Figure size 432x288 with 1 Axes>"
      ]
     },
     "metadata": {
      "needs_background": "light"
     },
     "output_type": "display_data"
    }
   ],
   "source": [
    "print(x_train_bb.shape)\n",
    "print(x_similar.shape)\n",
    "print(x_test.shape)\n",
    "plt.hist(y_train_bb)\n",
    "#plt.hist(y_similar)\n",
    "#plt.hist(y_test)"
   ]
  },
  {
   "cell_type": "code",
   "execution_count": 6,
   "metadata": {},
   "outputs": [
    {
     "name": "stdout",
     "output_type": "stream",
     "text": [
      "{'activation': 'relu', 'alpha': 1e-05, 'batch_size': 'auto', 'beta_1': 0.9, 'beta_2': 0.999, 'early_stopping': False, 'epsilon': 1e-08, 'hidden_layer_sizes': (10, 10, 10, 10, 10, 10, 10, 10, 10, 10), 'learning_rate': 'constant', 'learning_rate_init': 0.001, 'max_fun': 15000, 'max_iter': 20000, 'momentum': 0.9, 'n_iter_no_change': 10, 'nesterovs_momentum': True, 'power_t': 0.5, 'random_state': 2021, 'shuffle': True, 'solver': 'adam', 'tol': 0.0001, 'validation_fraction': 0.1, 'verbose': False, 'warm_start': False}\n",
      "TrainScore: How good is the training data classified by the black box\n",
      "0.9833333333333333\n",
      "SimilarScore: How good is the similar data classified by the black box\n",
      "1.0\n",
      "TestScore: How good is the test data classified by the black box\n",
      "1.0\n"
     ]
    }
   ],
   "source": [
    "NeuralBlackBox = MLPClassifier(solver='adam', alpha=1e-5,\n",
    "                    hidden_layer_sizes=(10, 10, 10, 10, 10, 10, 10, 10, 10, 10), max_iter=20000, random_state = seed, n_iter_no_change=10)\n",
    "\n",
    "NeuralBlackBox.fit(x_train_bb, y_train_bb)\n",
    "bb1 = NeuralBlackBox\n",
    "\n",
    "print(NeuralBlackBox.get_params(deep=True))\n",
    "print(\"TrainScore: How good is the training data classified by the black box\")\n",
    "print(NeuralBlackBox.score(x_train_bb, y_train_bb, sample_weight=None))\n",
    "print(\"SimilarScore: How good is the similar data classified by the black box\")\n",
    "print(NeuralBlackBox.score(x_similar, y_similar, sample_weight=None))\n",
    "print(\"TestScore: How good is the test data classified by the black box\")\n",
    "print(NeuralBlackBox.score(x_test, y_test, sample_weight=None))\n"
   ]
  },
  {
   "cell_type": "code",
   "execution_count": 7,
   "metadata": {},
   "outputs": [
    {
     "name": "stdout",
     "output_type": "stream",
     "text": [
      "{'bootstrap': True, 'ccp_alpha': 0.0, 'class_weight': None, 'criterion': 'gini', 'max_depth': None, 'max_features': 'auto', 'max_leaf_nodes': None, 'max_samples': None, 'min_impurity_decrease': 0.0, 'min_impurity_split': None, 'min_samples_leaf': 1, 'min_samples_split': 2, 'min_weight_fraction_leaf': 0.0, 'n_estimators': 10, 'n_jobs': None, 'oob_score': False, 'random_state': None, 'verbose': 0, 'warm_start': False}\n",
      "TrainScore: How good is the training data classified by the black box\n",
      "1.0\n",
      "SimilarScore: How good is the similar data classified by the black box\n",
      "0.9333333333333333\n",
      "TestScore: How good is the test data classified by the black box\n",
      "0.9333333333333333\n"
     ]
    }
   ],
   "source": [
    "RandomForestBlackBox = RandomForestClassifier(n_estimators=10)\n",
    "RandomForestBlackBox.fit(x_train_bb, y_train_bb)\n",
    "bb2 = RandomForestBlackBox\n",
    "\n",
    "print(RandomForestBlackBox.get_params(deep=True))\n",
    "print(\"TrainScore: How good is the training data classified by the black box\")\n",
    "print(RandomForestBlackBox.score(x_train_bb, y_train_bb, sample_weight=None))\n",
    "print(\"SimilarScore: How good is the similar data classified by the black box\")\n",
    "print(RandomForestBlackBox.score(x_similar, y_similar, sample_weight=None))\n",
    "print(\"TestScore: How good is the test data classified by the black box\")\n",
    "print(RandomForestBlackBox.score(x_test, y_test, sample_weight=None))"
   ]
  },
  {
   "cell_type": "code",
   "execution_count": 8,
   "metadata": {},
   "outputs": [],
   "source": [
    "BlackBox = bb1\n",
    "x_Sample = x_test[1]\n",
    "ExampleInstance = x_Sample\n",
    "target = -1\n",
    "np.random.seed(seed)\n",
    "\n",
    "x_250_RandomUniform = RandomFromMinMaxUniform(MinMax_2d(x_train_bb), 250, seed)\n",
    "x_250_RandomNormalSample = RandomAroundSampleNormal(x_Sample,MinMax_2d(x_train_bb),250,seed, 0.15)\n",
    "x_250_SynthDistAll = DensityApproximation(x_train_bb, 250, seed)\n",
    "x_250_RandomRows = RandomRows(x_train_bb, 250, seed)\n",
    "\n",
    "x_1000 = np.vstack([x_250_RandomUniform,x_250_RandomNormalSample,x_250_SynthDistAll,x_250_RandomRows])\n",
    "\n",
    "x_bb_test = RandomAroundSampleNormal(x_Sample,MinMax_2d(x_train_bb),1000,seed, 0.1)\n",
    "\n",
    "x_GenAlgo_Gen0  = x_1000\n",
    "y_GenAlgo_Gen0 = BlackBox.predict(x_GenAlgo_Gen0)\n",
    "yff_GenAlgo_Gen0 = foil_classification_s(y_GenAlgo_Gen0, x_Sample, blackbox = BlackBox, target = target, comment_bool = False)\n"
   ]
  },
  {
   "cell_type": "code",
   "execution_count": 9,
   "metadata": {},
   "outputs": [],
   "source": [
    "\n",
    "x_GenAlgo_fact = GenAlgo(x_1000, ExampleInstance, MinMax_2d(x_train_bb), 1, BlackBox, 1000, 6, 0.2 ,0.2, target = target)\n",
    "x_GenAlgo_foil = GenAlgo(x_1000, ExampleInstance, MinMax_2d(x_train_bb), 0, BlackBox, 1000, 7, 0.2 ,0.2, target = target)\n",
    "\n",
    "\n",
    "np.random.seed(seed)\n",
    "x_GenAlgo  = np.vstack([x_GenAlgo_fact,x_GenAlgo_foil])\n",
    "y_GenAlgo = BlackBox.predict(x_GenAlgo)\n",
    "yff_GenAlgo = foil_classification_s(y_GenAlgo, x_Sample, blackbox = BlackBox, target = target, comment_bool = False)\n",
    "\n",
    "LocalFoilTree = tree.DecisionTreeClassifier()\n",
    "LocalFoilTree.fit(x_GenAlgo, yff_GenAlgo)\n",
    "\n",
    "#print(LocalFoilTree.get_params(deep=True))\n",
    "#print('FoilTree score on GenAlgo training data:')\n",
    "#print(LocalFoilTree.score(x_GenAlgo, yff_GenAlgo, sample_weight=None))\n",
    "\n",
    "#x_bb_test (is initialized above)\n",
    "y_bb_test = BlackBox.predict(x_bb_test)\n",
    "yff_bb_test = foil_classification_s(y_bb_test, x_Sample, blackbox = BlackBox, target = target, comment_bool = False)\n"
   ]
  },
  {
   "cell_type": "code",
   "execution_count": 10,
   "metadata": {},
   "outputs": [],
   "source": [
    "SingleSample = x_Sample\n",
    "\n",
    "n_nodes = LocalFoilTree.tree_.node_count\n",
    "children_left = LocalFoilTree.tree_.children_left\n",
    "children_right = LocalFoilTree.tree_.children_right\n",
    "leaf_values = LocalFoilTree.tree_.value\n",
    "classes = LocalFoilTree.classes_\n",
    "\n",
    "\n",
    "feature = LocalFoilTree.tree_.feature\n",
    "threshold = LocalFoilTree.tree_.threshold\n",
    "parent = np.zeros(children_left.shape, dtype=int)\n",
    "wrongway = np.zeros(children_left.shape, dtype=int)\n",
    "leaf_value = np.zeros(children_left.shape, dtype=int)\n",
    "leaf_might = np.zeros(children_left.shape, dtype=int)\n",
    "\n",
    "\n",
    "\n",
    "for i_nodes in range(n_nodes):\n",
    "    parent[children_left[i_nodes]] = i_nodes\n",
    "    parent[children_right[i_nodes]] = i_nodes\n",
    "    if feature[i_nodes] != -2:\n",
    "\n",
    "        if SingleSample[feature[i_nodes]] <= threshold[i_nodes]:\n",
    "            wrongway[children_left[i_nodes]] = wrongway[i_nodes] \n",
    "            wrongway[children_right[i_nodes]] = wrongway[i_nodes] + 1\n",
    "        else:\n",
    "            wrongway[children_left[i_nodes]] = wrongway[i_nodes] + 1\n",
    "            wrongway[children_right[i_nodes]] = wrongway[i_nodes]\n",
    "    else:\n",
    "        leaf_value[i_nodes] = classes[np.argmax(leaf_values[i_nodes])]\n",
    "        leaf_might[i_nodes] = np.sum(leaf_values[i_nodes])\n",
    "\n",
    "#print(range(n_nodes))\n",
    "#print(parent)\n",
    "#print(children_left)\n",
    "#print(children_right)\n",
    "#print(feature)\n",
    "#print(threshold)\n",
    "#print(wrongway)\n",
    "#print(leaf_might)\n",
    "#print(leaf_value)\n",
    "#print(classes)\n",
    "#print(np.vstack([range(n_nodes),parent,children_left,children_right,feature,threshold,wrongway,leaf_might,leaf_value]))"
   ]
  },
  {
   "cell_type": "code",
   "execution_count": 11,
   "metadata": {},
   "outputs": [],
   "source": [
    "#print(SingleSample)\n",
    "CountFeatures = SingleSample.shape[0]\n",
    "#print(CountFeatures)\n",
    "TreeVsSampleDiff = np.zeros((CountFeatures, n_nodes))\n",
    "#print(TreeVsSampleDiff)\n",
    "\n",
    "for i_nodes in range(n_nodes):\n",
    "    feature_Temp = feature[i_nodes].item()\n",
    "    threshold_Temp = threshold[i_nodes].item()\n",
    "    parent_Temp = parent[i_nodes].item()\n",
    "    SingleSampleFeatureValue_Temp = SingleSample[feature_Temp].item()\n",
    "    #print(SingleSampleFeatureValue_Temp)\n",
    "    \n",
    "    if children_left[i_nodes] == -1 and children_right[i_nodes] == -1:\n",
    "        #print(\"leaf node :%s\" %(i_nodes))\n",
    "        continue\n",
    "    for i_feature in feature:\n",
    "        TreeVsSampleDiff[i_feature , children_right[i_nodes]] = TreeVsSampleDiff[i_feature , i_nodes]\n",
    "        TreeVsSampleDiff[i_feature , children_left[i_nodes]] = TreeVsSampleDiff[i_feature , i_nodes]\n",
    "\n",
    "\n",
    "    if SingleSampleFeatureValue_Temp + TreeVsSampleDiff[feature_Temp, parent_Temp].item()  <= threshold_Temp:\n",
    "        TreeVsSampleDiff[feature_Temp , children_right[i_nodes]] = threshold_Temp - SingleSampleFeatureValue_Temp\n",
    "        #print(\"Would be right with difference :( %s -%s ) at feature %s\" % (threshold_Temp, SingleSampleFeatureValue_Temp, feature_Temp) )\n",
    "    else:\n",
    "        TreeVsSampleDiff[feature_Temp , children_left[i_nodes]] =  threshold_Temp - SingleSampleFeatureValue_Temp\n",
    "        #print(\"Would be left with difference :( %s -%s ) at feature %s\" % (threshold_Temp, SingleSampleFeatureValue_Temp, feature_Temp) )\n",
    "\n",
    "#print(SingleSample)\n",
    "TreeVsSampleTotalDiff = np.sum(abs(TreeVsSampleDiff), axis = 0)\n",
    "#print(TreeVsSampleTotalDiff)\n",
    "#print(TreeVsSampleDiff)\n",
    "#print(children_left)\n",
    "#print(leaf_value)\n",
    "#print(np.vstack([TreeVsSampleDiff,TreeVsSampleTotalDiff,wrongway,children_left,leaf_value]))"
   ]
  },
  {
   "cell_type": "code",
   "execution_count": 12,
   "metadata": {},
   "outputs": [
    {
     "name": "stdout",
     "output_type": "stream",
     "text": [
      "The blackbox would classify the user input as the foil class if: (might = 970)\n",
      "-feature 2 (petal length (cm)) would be more than 1.305 higher\n"
     ]
    }
   ],
   "source": [
    "might_threshold = math.ceil(x_GenAlgo.shape[0] *0.01)\n",
    "foil_TreeVsSampleTotalDiff = TreeVsSampleTotalDiff[(leaf_value == 0) & (children_left == -1) & (leaf_might >= might_threshold)]\n",
    "foil_TreeVsSampleDiff = TreeVsSampleDiff[:,(leaf_value == 0) & (children_left == -1) & (leaf_might >= might_threshold)]\n",
    "foil_wrongway = wrongway[(leaf_value == 0) & (children_left == -1) & (leaf_might >= might_threshold)]\n",
    "foil_leaf_might = leaf_might[(leaf_value == 0) & (children_left == -1) & (leaf_might >= might_threshold)]\n",
    "\n",
    "#print(foil_TreeVsSampleDiff)\n",
    "#print(foil_TreeVsSampleTotalDiff)\n",
    "#print(foil_wrongway)\n",
    "\n",
    "ind_sort = np.lexsort((foil_TreeVsSampleTotalDiff,foil_wrongway)) # Sort by foil_wrongway, then by foil_TreeVsSampleTotalDiff\n",
    "\n",
    "foil_sort_TreeVsSampleDiff = foil_TreeVsSampleDiff[:,ind_sort]\n",
    "foil_sort_TreeVsSampleTotalDiff = foil_TreeVsSampleTotalDiff[ind_sort]\n",
    "foil_sort_wrongway = foil_wrongway[ind_sort]\n",
    "foil_sort_leaf_might = foil_leaf_might[ind_sort]\n",
    "\n",
    "#print(foil_sort_TreeVsSampleDiff)\n",
    "#print(foil_sort_TreeVsSampleTotalDiff)\n",
    "#print(foil_sort_wrongway)\n",
    "\n",
    "\n",
    "i_near = 10\n",
    "if i_near >= foil_sort_TreeVsSampleDiff.shape[1]:\n",
    "    i_near = foil_sort_TreeVsSampleDiff.shape[1]\n",
    "\n",
    "for i_temp_near in range(i_near):\n",
    "    #print(i_temp_near)\n",
    "    print(\"The blackbox would classify the user input as the foil class if: (might = %s)\" % (foil_sort_leaf_might[i_temp_near]))\n",
    "    for i_feature in range(foil_sort_TreeVsSampleDiff.shape[0]):\n",
    "        feature_diff = foil_sort_TreeVsSampleDiff[i_feature,i_temp_near]\n",
    "\n",
    "        boolean_first = True\n",
    "        string_and = \"\"\n",
    "        if feature_diff != 0:\n",
    "            if boolean_first == False:\n",
    "                string_and = \"and \"\n",
    "            if feature_diff < 0:\n",
    "                print(\"-%sfeature %s (%s) would be more than %s lower\" % (string_and,i_feature,attributes[i_feature],abs(feature_diff.round(3))))\n",
    "                boolean_first = False\n",
    "            if feature_diff > 0:\n",
    "                print(\"-%sfeature %s (%s) would be more than %s higher\" % (string_and,i_feature,attributes[i_feature],abs(feature_diff.round(3))))\n",
    "                boolean_first = False\n"
   ]
  },
  {
   "cell_type": "code",
   "execution_count": null,
   "metadata": {},
   "outputs": [],
   "source": []
  }
 ],
 "metadata": {
  "kernelspec": {
   "display_name": "Python 3",
   "language": "python",
   "name": "python3"
  },
  "language_info": {
   "codemirror_mode": {
    "name": "ipython",
    "version": 3
   },
   "file_extension": ".py",
   "mimetype": "text/x-python",
   "name": "python",
   "nbconvert_exporter": "python",
   "pygments_lexer": "ipython3",
   "version": "3.7.6"
  }
 },
 "nbformat": 4,
 "nbformat_minor": 4
}
